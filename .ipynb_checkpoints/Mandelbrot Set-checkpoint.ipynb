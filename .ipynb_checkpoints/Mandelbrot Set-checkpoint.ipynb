{
 "cells": [
  {
   "cell_type": "markdown",
   "metadata": {},
   "source": [
    "### Mandelbrot Set\n",
    "\n",
    "##### The Mandelbrot Set is a set of complex numbers where  ${z}_{n+1} = {z}_{n} ^2 + c$  does not converge when iterated from $z = 0$. Images of this set exhibit infinite and complicated boundary regions due to its recrsive nature.\n",
    "\n",
    "##### This Python script plots a Mandelbrot Set for a given Matrix size, up to a given number of iterations. Play with the colormap for different outputs!"
   ]
  },
  {
   "cell_type": "code",
   "execution_count": null,
   "metadata": {},
   "outputs": [],
   "source": [
    "#imports\n",
    "import matplotlib.pyplot as plt\n",
    "import numpy as np\n",
    "\n",
    "def create_variables(n = 400, x_range = [-2.5,1.5], y_range = [-1.5,1.5]):\n",
    "    # input: n is the matrix size given as a square matrix of n X n\n",
    "    #        x_range and y_range are the given ranges chosen for the matrix\n",
    "    # Default variables chosen as an example\n",
    "    \n",
    "    x = np.linspace(x_range[0],x_range[1],n)  # x axis used for the Real part of C matrix in the range\n",
    "    y = np.linspace(y_range[0],y_range[1],n)  # y axis used for the Imaginary part of the C matrix in the range\n",
    "\n",
    "    # create the C values matrix\n",
    "    real, imaginary = np.meshgrid(x,y) # assigning the arrays for the matrix values using the numpy meshgrid function\n",
    "    c_matrix = real + 1j * imaginary # each value of the C matrix is a complex number with real and imaginary parts\n",
    "\n",
    "    # create the counter matrix to check whether the mandelbrot set condition is met\n",
    "    # the final result of this matrix is the last count calculated before the condition is not met\n",
    "    z_count = np.zeros((n,n))\n",
    "\n",
    "    # create the iterations matrix for the calculation of z_i\n",
    "    z_iter = np.zeros((n,n)) "
   ]
  }
 ],
 "metadata": {
  "kernelspec": {
   "display_name": "Python 3",
   "language": "python",
   "name": "python3"
  },
  "language_info": {
   "codemirror_mode": {
    "name": "ipython",
    "version": 3
   },
   "file_extension": ".py",
   "mimetype": "text/x-python",
   "name": "python",
   "nbconvert_exporter": "python",
   "pygments_lexer": "ipython3",
   "version": "3.8.3"
  }
 },
 "nbformat": 4,
 "nbformat_minor": 4
}
