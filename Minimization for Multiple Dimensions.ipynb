{
 "cells": [
  {
   "cell_type": "markdown",
   "metadata": {},
   "source": [
    "### Minimization Method for Multiple Dimensions, computed for the Gradient Descent Algorithm\n",
    "#### For the parabolic search method for 1D, see other script\n",
    "#### The gradient descent algorithm is a minimization method for high dimensions for functions where the gradient is known.\n",
    "#### The algorithm here is computed for a two dimensional function, but for higher dimensions one can use a similar execution\n",
    "#### In the example, I will show contour plots showing the path of the gradient points to find the minimum point, from different initial points."
   ]
  },
  {
   "cell_type": "code",
   "execution_count": 2,
   "metadata": {},
   "outputs": [],
   "source": [
    "#imports\n",
    "import matplotlib.pyplot as plt\n",
    "import numpy as np\n",
    "from numpy import linalg\n",
    "import scipy\n",
    "import numdifftools as nd\n",
    "\n",
    "# minimazation of a two dimensional function using the gradient descent method\n",
    "def GDstep(f, x0, gamma, xtol, diff):\n",
    "    # input: f is the function of interest, x0 is the starting point for the initialization\n",
    "    #        gamma is the step size for the algorithm\n",
    "    #        xtol and diff are the threshold conditions used for the breakpoint\n",
    "    \n",
    "    # returns the value of the minimum for every iteration\n",
    "    \n",
    "    maxiter, i = 1000, 1\n",
    "    x = [np.array(x0)]\n",
    "    \n",
    "    # use the numdifftools library to calculate the gradient\n",
    "    dfunc = nd.Gradient(f)\n",
    "    grad_init = dfunc(x0)\n",
    "    fval = [np.array(grad_init)]\n",
    "    \n",
    "    while (i < maxiter or diff > xtol):\n",
    "        # calculate the gradient descent\n",
    "        x.append(np.array(x[-1] - gamma*fval[-1]))\n",
    "        # calculate the gradient\n",
    "        grad = dfunc(x[-1])\n",
    "        fval.append(np.array(grad))\n",
    "        # update iteration and diff for the loop break condition\n",
    "        diff = np.linalg.norm(fval[-1])\n",
    "        i += 1\n",
    "    return [x,fval]"
   ]
  },
  {
   "cell_type": "code",
   "execution_count": 5,
   "metadata": {},
   "outputs": [
    {
     "data": {
      "image/png": "[encoded data removed]",
      "text/plain": [
       "<Figure size 432x288 with 1 Axes>"
      ]
     },
     "metadata": {
      "needs_background": "light"
     },
     "output_type": "display_data"
    }
   ],
   "source": [
    "# Example\n",
    "# Contour Plot of the function f(x,y) = cos(x) + sin(y) + (1/5)*x^2 + (1/4)*y^2\n",
    "# For the range x in [-10,10] and y in [-10,10]\n",
    "\n",
    "f_example = lambda x : np.cos(x[0]) + np.sin(x[1]) + (1/5)*(x[0])**2 + (1/4)*(x[1])**2\n",
    "x = np.arange(-10, 11)\n",
    "y = np.arange(-10,11)\n",
    "X,Y = np.meshgrid(x,y)\n",
    "\n",
    "f = f_example((X,Y))\n",
    "\n",
    "# Plotting the countour plot\n",
    "fig,ax=plt.subplots(1,1)\n",
    "cp = ax.contourf(X, Y, f)\n",
    "ax.set_title('General Countour Plot of the Function')\n",
    "ax.set_aspect(1)\n",
    "plt.show()"
   ]
  },
  {
   "cell_type": "code",
   "execution_count": 9,
   "metadata": {},
   "outputs": [
    {
     "name": "stderr",
     "output_type": "stream",
     "text": [
      "C:\\Users\\User\\anaconda3\\lib\\site-packages\\matplotlib\\collections.py:922: RuntimeWarning: invalid value encountered in sqrt\n",
      "  scale = np.sqrt(self._sizes) * dpi / 72.0 * self._factor\n"
     ]
    },
    {
     "data": {
      "image/png": "[encoded data removed]",
      "text/plain": [
       "<Figure size 432x288 with 1 Axes>"
      ]
     },
     "metadata": {
      "needs_background": "light"
     },
     "output_type": "display_data"
    }
   ],
   "source": [
    "# Results for the example with different initial points\n",
    "gamma, xtol, diff = 0.2, 10 ** (-4), 1\n",
    "\n",
    "minima_1 = GDstep(f_example,(7,7),gamma,xtol,diff) # initial point at (7,7)\n",
    "minima_2 = GDstep(f_example,(-7,-7),gamma,xtol,diff) # initial point at (-7,-7)\n",
    "minima_3 = GDstep(f_example,(0,-7),gamma,xtol,diff) # initial point at (0,-7)\n",
    "\n",
    "minima_1_x = [minima_1[0][i][0] for i in range(len(minima_1[0]))]\n",
    "minima_1_y = [minima_1[0][j][1] for j in range(len(minima_1[0]))]\n",
    "minima_1_val = [f_example(minima_1[0][k]) for k in range(len(minima_1[0]))] #values of the function\n",
    "\n",
    "minima_2_x = [minima_2[0][i][0] for i in range(len(minima_2[0]))]\n",
    "minima_2_y = [minima_2[0][j][1] for j in range(len(minima_2[0]))]\n",
    "minima_2_val = [f_example(minima_2[0][k]) for k in range(len(minima_2[0]))] #values of the function\n",
    "\n",
    "minima_3_x = [minima_3[0][i][0] for i in range(len(minima_3[0]))]\n",
    "minima_3_y = [minima_3[0][j][1] for j in range(len(minima_3[0]))]\n",
    "minima_3_val = [f_example(minima_3[0][k]) for k in range(len(minima_3[0]))] #values of the function\n",
    "\n",
    "# Contour Plot of the function with the paths for each initial point\n",
    "fig,ax=plt.subplots(1,1)\n",
    "cp = ax.contourf(X, Y, f, cmap='gray')\n",
    "ax.set_title('Countour Plot')\n",
    "ax.set_aspect(1)\n",
    "plt.scatter(minima_1_x,minima_1_y,minima_1_val,color=\"green\")\n",
    "plt.scatter(minima_2_x,minima_2_y,minima_2_val,color=\"red\")\n",
    "plt.scatter(minima_3_x,minima_3_y,minima_3_val,color=\"blue\")\n",
    "plt.xlabel(\"x\")\n",
    "plt.ylabel(\"y\")\n",
    "plt.show()"
   ]
  },
  {
   "cell_type": "code",
   "execution_count": null,
   "metadata": {},
   "outputs": [],
   "source": []
  }
 ],
 "metadata": {
  "kernelspec": {
   "display_name": "Python 3",
   "language": "python",
   "name": "python3"
  },
  "language_info": {
   "codemirror_mode": {
    "name": "ipython",
    "version": 3
   },
   "file_extension": ".py",
   "mimetype": "text/x-python",
   "name": "python",
   "nbconvert_exporter": "python",
   "pygments_lexer": "ipython3",
   "version": "3.8.3"
  }
 },
 "nbformat": 4,
 "nbformat_minor": 4
}
